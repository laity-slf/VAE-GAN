{
 "cells": [
  {
   "cell_type": "markdown",
   "id": "159b0f89",
   "metadata": {},
   "source": [
    "# 加载数据"
   ]
  },
  {
   "cell_type": "code",
   "execution_count": null,
   "id": "dab5ce3f",
   "metadata": {},
   "outputs": [],
   "source": [
    "#全部数据\n",
    "import pandas as pd\n",
    "import os\n",
    "\n",
    "data_path=os.listdir('data')\n",
    "data_path.sort()\n",
    "data_path=data_path[1:]\n",
    "# data_path\n",
    "for i,p in enumerate(data_path):\n",
    "    df =pd.read_csv(os.path.join('data',p))\n",
    "    if i > 0:\n",
    "        a=np.append(a,df['Var2'][1:].values)\n",
    "    else:\n",
    "        a = df['Var2'][1:].values  \n",
    "\n",
    "np.save('data_x.npy',a)"
   ]
  },
  {
   "cell_type": "code",
   "execution_count": null,
   "id": "b3fe0b3b",
   "metadata": {},
   "outputs": [],
   "source": [
    "#部分数据，活动：A0：坐；A5A6：上下楼梯；A12：跑步机跑步；\n",
    "import pandas as pd\n",
    "import os\n",
    "\n",
    "data_path=os.listdir('data')\n",
    "data_path.sort()\n",
    "data_path=data_path[1:]\n",
    "# data_path\n",
    "for i,p in enumerate(data_path):\n",
    "    df =pd.read_csv(os.path.join('data',p))\n",
    "    if i > 0:\n",
    "        a=np.append(a,df['Var2'][1:].values)\n",
    "    else:\n",
    "        a = df['Var2'][1:].values  \n",
    "\n",
    "np.save('data_three.npy',a)"
   ]
  },
  {
   "cell_type": "code",
   "execution_count": null,
   "id": "c5128ebb",
   "metadata": {},
   "outputs": [],
   "source": [
    "#coding=utf-8\n",
    "import numpy as np\n",
    "import time\n",
    "data=np.load('data_three.npy')#没有加log\n",
    "a=data\n",
    "a_nomal=(a-np.min(a))/(np.max(a)-np.min(a))\n",
    "a_re=a_nomal.reshape(-1,30000)\n",
    "a_re=np.vstack((a_re[:15],a_re[43:]))\n",
    "#add noise(14,43,56)\n",
    "a_noise=[]\n",
    "start_time=time.time()\n",
    "\n",
    "for j in range(a_re.shape[0]):\n",
    "    for i in range(50):\n",
    "        for k in range(30000):\n",
    "                tmp=a_re[j,k]+a_re[j,k]/10 *np.random.randn(1)\n",
    "                if tmp <0:\n",
    "                        a_noise.append(np.array([a_re[j,k]]))\n",
    "                elif tmp >0 and tmp < 1:\n",
    "                        a_noise.append(tmp)\n",
    "                else:\n",
    "                        a_noise.append(np.array([a_re[j,k]]))\n",
    "    print('当前进度为{0}/28,所花费时间为{1},平均花费时间{2}'.format(j+1,time.time()-start_time,(time.time()-start_time)/(j+1)))\n",
    "\n",
    "    \n",
    "aa=np.array(a_noise) \n",
    "# np.save('data_nomal_0-50.npy',aa)\n",
    "# np.save('data_nomal_50-100.npy',aa)\n",
    "\n",
    "\n"
   ]
  },
  {
   "cell_type": "code",
   "execution_count": null,
   "id": "4b538e53",
   "metadata": {},
   "outputs": [],
   "source": [
    "np.save('data_view_1.npy',aa)"
   ]
  },
  {
   "cell_type": "markdown",
   "id": "c721c778",
   "metadata": {},
   "source": [
    "# 数据增强"
   ]
  },
  {
   "cell_type": "code",
   "execution_count": null,
   "id": "da778ede",
   "metadata": {},
   "outputs": [],
   "source": [
    "#coding=utf-8\n",
    "import numpy as np\n",
    "import time\n",
    "data=np.load('data_three.npy')#没有加log\n",
    "a=data\n",
    "a_nomal=(a-np.min(a))/(np.max(a)-np.min(a))\n",
    "a_re=a_nomal.reshape(-1,30000)\n",
    "#add noise(14,43,56)\n",
    "a_noise=[]\n",
    "start_time=time.time()\n",
    "for i in range(50):\n",
    "    for j in range(a_re.shape[0]):\n",
    "        for k in range(30000):\n",
    "                tmp=a_re[j,k]+a_re[j,k]/10 *np.random.randn(1)\n",
    "                if tmp <0:\n",
    "                        a_noise.append(np.array([a_re[j,k]]))\n",
    "                elif tmp >0 and tmp < 1:\n",
    "                        a_noise.append(tmp)\n",
    "                else:\n",
    "                        a_noise.append(np.array([a_re[j,k]]))\n",
    "    print('当前进度为{0}/50,所花费时间为{1},平均花费时间{2}'.format(i+1,time.time()-start_time,(time.time()-start_time)/(i+1)))\n",
    "\n",
    "    \n",
    "aa=np.array(a_noise) \n",
    "# np.save('data_nomal_0-50.npy',aa)\n",
    "# np.save('data_nomal_50-100.npy',aa)\n"
   ]
  },
  {
   "cell_type": "code",
   "execution_count": null,
   "id": "6d16bdb8",
   "metadata": {},
   "outputs": [],
   "source": []
  },
  {
   "cell_type": "markdown",
   "id": "bdc79c96",
   "metadata": {},
   "source": [
    "# 测试数据生成"
   ]
  },
  {
   "cell_type": "code",
   "execution_count": null,
   "id": "016b06d8",
   "metadata": {},
   "outputs": [],
   "source": [
    "import numpy as np\n",
    "import matplotlib.pyplot as plt\n",
    " \n",
    "def sin_wave(start,end,zhouqi,midu):\n",
    "    '''\n",
    "    :param start: the fist value of the wave\n",
    "    :param end:  the end value of the wave\n",
    "    :param zhouqi:  the zhouqi range of the wave\n",
    "    :param midu:  every zhouqi, there are how many points in this zhouqi\n",
    "    :return: the x array and the y array\n",
    "    '''\n",
    " \n",
    "    # 根据numpy的sin函数，生成对应的y的坐标。\n",
    "    # y = np.sin(x)\n",
    "    xout=[]\n",
    "    yout=[]\n",
    "    for i in range(start,end,zhouqi):\n",
    "        x = np.arange(i, i + zhouqi,  midu)\n",
    "        # y = np.where(x<start+0.5, x-start, 0)\n",
    "        y = np.sin(x)\n",
    " \n",
    "        xout = np.append(xout, x)\n",
    "        yout = np.append(yout, y)\n",
    "    return xout,yout\n",
    " \n",
    " \n",
    " \n",
    " \n",
    " \n",
    "def triangle_wave(start,end,zhouqi,midu):\n",
    "    '''\n",
    "    :param start: the fist value of the wave\n",
    "    :param end:  the end value of the wave\n",
    "    :param zhouqi:  the zhouqi range of the wave\n",
    "    :param midu:  every zhouqi, there are how many points in this zhouqi\n",
    "    :return: the x array and the y array\n",
    "    '''\n",
    " \n",
    "    xout=[]\n",
    "    yout=[]\n",
    "    for i in range(start,end,zhouqi):\n",
    "        x = np.arange(i, i + zhouqi,  midu)\n",
    "        # y = np.where(x<start+0.5, x-start, 0)\n",
    "        y = np.where(x >= i + zhouqi/2, i + zhouqi - x, x - i)\n",
    " \n",
    "        xout = np.append(xout, x)\n",
    "        yout = np.append(yout, y)\n",
    "    return xout,yout\n",
    " \n",
    " \n",
    " \n",
    "def square_wave(start,end,zhouqi,midu):\n",
    "    '''\n",
    "    :param start: the fist value of the wave\n",
    "    :param end:  the end value of the wave\n",
    "    :param zhouqi:  the zhouqi range of the wave\n",
    "    :param midu:  every zhouqi, there are how many points in this zhouqi\n",
    "    :return: the x array and the y array\n",
    "    '''\n",
    "    xout = []\n",
    "    yout = []\n",
    "    for i in range(start,end,zhouqi):\n",
    "        x = np.arange(i, i + zhouqi,  midu)\n",
    "        # y = np.where(x<start+0.5, x-start, 0)\n",
    "        y = np.where(x >= i+ zhouqi/2, 1,0)\n",
    " \n",
    "        xout = np.append(xout, x)\n",
    "        yout = np.append(yout, y)\n",
    "    return xout, yout\n",
    " \n",
    " \n",
    " \n",
    "def swatooth_wave(start,end,zhouqi,midu):\n",
    "    '''\n",
    "    :param start: the fist value of the wave\n",
    "    :param end:  the end value of the wave\n",
    "    :param zhouqi:  the zhouqi range of the wave\n",
    "    :param midu:  every zhouqi, there are how many points in this zhouqi\n",
    "    :return: the x array and the y array\n",
    "    '''\n",
    "    xout = []\n",
    "    yout = []\n",
    "    for i in range(start,end,zhouqi):\n",
    "        x = np.arange(i, i + zhouqi, midu)\n",
    "        # y = np.where(x<start+0.5, x-start, 0)\n",
    "        y = np.where(x >= i, i + zhouqi - x, x - i)\n",
    " \n",
    "        xout = np.append(xout, x)\n",
    "        yout = np.append(yout, y)\n",
    "    return xout, yout\n",
    "\n",
    "\n",
    "def maxminnorm(array):\n",
    "    maxcols=array.max(axis=1)\n",
    "    mincols=array.min(axis=1)\n",
    "    data_shape = array.shape\n",
    "    data_rows = data_shape[0]\n",
    "    data_cols = data_shape[1]\n",
    "    t=np.empty((data_rows,data_cols))\n",
    "    for i in range(data_rows):\n",
    "        t[i,:]=(array[i,:]-mincols[i])/(maxcols[i]-mincols[i])\n",
    "    return t"
   ]
  },
  {
   "cell_type": "code",
   "execution_count": null,
   "id": "95e1e2dc",
   "metadata": {},
   "outputs": [],
   "source": [
    "import random\n",
    "T_value=[5,10,20,25,40,50,100]\n",
    "y_sin=[]\n",
    "y_triangle=[]\n",
    "y_square=[]\n",
    "sample_rate=.2\n",
    "for i in range(100):\n",
    "    T=random.choice(T_value)\n",
    "    for j in range(100):\n",
    "        end=random.randint(200,1000)\n",
    "        start=end-200\n",
    "        x1,y1=sin_wave(start,end,T,sample_rate)\n",
    "        x2,y2=triangle_wave(0,200,T,sample_rate)\n",
    "        x3,y3=square_wave(0,200,T,sample_rate)\n",
    "        y_sin=np.append(y_sin,y1)\n",
    "        y_triangle=np.append(y_triangle,y2)\n",
    "        y_square=np.append(y_square,y3)\n"
   ]
  },
  {
   "cell_type": "code",
   "execution_count": null,
   "id": "ad7a10fa",
   "metadata": {},
   "outputs": [],
   "source": [
    "X_=np.vstack((y_sin,y_triangle))\n",
    "X=np.vstack((X_,y_square))\n",
    "X=X.reshape(-1,1000)"
   ]
  },
  {
   "cell_type": "code",
   "execution_count": null,
   "id": "db968e79",
   "metadata": {},
   "outputs": [],
   "source": [
    "X[10000:20000]=maxminnorm(X[10000:20000])"
   ]
  },
  {
   "cell_type": "code",
   "execution_count": null,
   "id": "bb0dcb44",
   "metadata": {},
   "outputs": [],
   "source": [
    "np.save('data_X1000.npy',X)"
   ]
  },
  {
   "cell_type": "markdown",
   "id": "f52bede1",
   "metadata": {},
   "source": [
    "# vae后数据生成"
   ]
  },
  {
   "cell_type": "code",
   "execution_count": 4,
   "id": "1820cc14",
   "metadata": {},
   "outputs": [],
   "source": [
    "import numpy as np\n",
    "import torch\n",
    "import torch.nn as nn\n",
    "import torch.nn.functional as F\n",
    "import torch.optim as optim\n",
    "from torchvision import datasets, transforms\n",
    "from torch.autograd import Variable\n",
    "from torchvision.utils import save_image\n",
    "import matplotlib.pyplot as plt\n",
    "class VAE(nn.Module):\n",
    "    def __init__(self, x_dim, h_dim1, h_dim2, z_dim):\n",
    "        super(VAE, self).__init__()\n",
    "        \n",
    "        # encoder part\n",
    "        self.fc1 = nn.Linear(x_dim, h_dim1)\n",
    "        self.fc2 = nn.Linear(h_dim1, h_dim2)\n",
    "        self.fc31 = nn.Linear(h_dim2, z_dim)\n",
    "        self.fc32 = nn.Linear(h_dim2, z_dim)\n",
    "        # decoder part\n",
    "        self.fc4 = nn.Linear(z_dim, h_dim2)\n",
    "        self.fc5 = nn.Linear(h_dim2, h_dim1)\n",
    "        self.fc6 = nn.Linear(h_dim1, x_dim)\n",
    "        \n",
    "    def encoder(self, x):\n",
    "        h = F.relu(self.fc1(x))\n",
    "        h = F.relu(self.fc2(h))\n",
    "        return self.fc31(h), self.fc32(h) # mu, log_var\n",
    "    \n",
    "    def sampling(self, mu, log_var):\n",
    "        std = torch.exp(0.5*log_var)\n",
    "        eps = torch.randn_like(std)\n",
    "        return eps.mul(std).add_(mu) # return z sample\n",
    "        \n",
    "    def decoder(self, z):\n",
    "        h = F.relu(self.fc4(z))\n",
    "        h = F.relu(self.fc5(h))\n",
    "        return F.sigmoid(self.fc6(h)) \n",
    "    \n",
    "    def forward(self, x):\n",
    "        mu, log_var = self.encoder(x)\n",
    "        z = self.sampling(mu, log_var)\n",
    "        return self.decoder(z), mu, log_var\n",
    "\n",
    "# return reconstruction error + KL divergence losses\n",
    "def loss_function(recon_x, x, mu, log_var):\n",
    "    BCE = F.binary_cross_entropy(recon_x, x, reduction='sum')\n",
    "\n",
    "    KLD = -0.5 * torch.sum(1 + log_var - mu.pow(2) - log_var.exp())\n",
    "    return BCE + KLD    \n",
    "\n",
    "\n",
    "class Discriminator(nn.Module):\n",
    "    def __init__(self, d_input_dim):\n",
    "        super(Discriminator, self).__init__()\n",
    "        self.fc1 = nn.Linear(d_input_dim, 1)\n",
    "#         self.fc2 = nn.Linear(self.fc1.out_features, self.fc1.out_features//2)\n",
    "#         self.fc3 = nn.Linear(self.fc2.out_features, self.fc2.out_features//2)\n",
    "#         self.fc4 = nn.Linear(self.fc3.out_features, 1)\n",
    "    \n",
    "    # forward method\n",
    "    def forward(self, x):\n",
    "#         x = F.leaky_relu(self.fc1(x), 0.2)\n",
    "#         x = F.dropout(x, 0.3)\n",
    "#         x = F.leaky_relu(self.fc2(x), 0.2)\n",
    "#         x = F.dropout(x, 0.3)\n",
    "#         x = F.leaky_relu(self.fc3(x), 0.2)\n",
    "#         x = F.dropout(x, 0.3)\n",
    "#         return torch.sigmoid(self.fc4(x))\n",
    "        return torch.sigmoid(self.fc1(x))\n",
    "\n",
    "vae=torch.load('model_vae.pt')\n",
    "vae.cuda()\n",
    "\n",
    "# X1=np.load('data_nomal_0-50.npy')\n",
    "# X2=np.load('data_nomal_50-100.npy')\n",
    "# X_1=X1.reshape(-1,30000)\n",
    "# X_2=X2.reshape(-1,30000)\n",
    "# X=np.vstack((X_1,X_2))\n",
    "\n",
    "data=np.load('data_three.npy')#没有加log\n",
    "a=data\n",
    "a_nomal=(a-np.min(a))/(np.max(a)-np.min(a))\n",
    "a_re=a_nomal.reshape(-1,30000)\n",
    "a_re=np.vstack((a_re[:15],a_re[43:]))\n",
    "X=a_re"
   ]
  },
  {
   "cell_type": "code",
   "execution_count": 12,
   "id": "5f09572f",
   "metadata": {},
   "outputs": [],
   "source": [
    "a_s=[]"
   ]
  },
  {
   "cell_type": "code",
   "execution_count": 13,
   "id": "4d8a5cf5",
   "metadata": {},
   "outputs": [],
   "source": [
    "for num in range(28):\n",
    "    x=torch.from_numpy(X)\n",
    "    ii=x[num].float().cuda()\n",
    "    output=vae(ii)\n",
    "    a=output[0].cpu()\n",
    "    a=a.detach().numpy()\n",
    "    a_s.append(a)"
   ]
  },
  {
   "cell_type": "code",
   "execution_count": 16,
   "id": "7269706d",
   "metadata": {},
   "outputs": [],
   "source": [
    "a_s=np.array(a_s)"
   ]
  },
  {
   "cell_type": "code",
   "execution_count": 19,
   "id": "e3912f73",
   "metadata": {
    "scrolled": true
   },
   "outputs": [
    {
     "data": {
      "text/plain": [
       "array([[1.1383227e-07, 4.4717450e-07, 6.4531491e-07, ..., 2.1312185e-07,\n",
       "        5.6289775e-07, 1.9571653e-06],\n",
       "       [3.8987967e-08, 1.0741807e-07, 1.2445192e-07, ..., 4.9290385e-08,\n",
       "        1.2739956e-07, 4.7072442e-07],\n",
       "       [4.9344468e-08, 1.8851250e-07, 2.3019102e-07, ..., 1.5758503e-07,\n",
       "        5.6512619e-07, 1.5088814e-06],\n",
       "       ...,\n",
       "       [4.1782278e-06, 4.7018479e-05, 1.6660336e-04, ..., 9.8582350e-05,\n",
       "        7.6618177e-05, 8.6877175e-05],\n",
       "       [7.0531243e-03, 5.0113644e-02, 9.5366679e-02, ..., 1.2674356e-04,\n",
       "        1.5968962e-04, 3.5546895e-05],\n",
       "       [1.0180818e-03, 8.9736916e-03, 2.2739775e-02, ..., 9.8266220e-04,\n",
       "        1.1741812e-03, 9.7904740e-05]], dtype=float32)"
      ]
     },
     "execution_count": 19,
     "metadata": {},
     "output_type": "execute_result"
    }
   ],
   "source": [
    "a_s"
   ]
  },
  {
   "cell_type": "code",
   "execution_count": 20,
   "id": "39ed2d28",
   "metadata": {},
   "outputs": [
    {
     "data": {
      "text/plain": [
       "array([[8.50230334e-10, 4.80395180e-09, 6.86889695e-09, ...,\n",
       "        3.49722158e-08, 3.74854510e-08, 2.50954498e-08],\n",
       "       [3.47969564e-09, 2.40718143e-08, 4.79158075e-08, ...,\n",
       "        1.67415092e-07, 4.96575496e-07, 1.07236338e-06],\n",
       "       [4.21043594e-07, 3.00230417e-06, 6.23624555e-06, ...,\n",
       "        4.29485565e-06, 8.85438033e-06, 1.56500674e-05],\n",
       "       ...,\n",
       "       [9.18131758e-07, 1.38332597e-05, 5.88172637e-05, ...,\n",
       "        0.00000000e+00, 0.00000000e+00, 0.00000000e+00],\n",
       "       [6.20722101e-03, 4.14593318e-02, 7.83963845e-02, ...,\n",
       "        0.00000000e+00, 0.00000000e+00, 0.00000000e+00],\n",
       "       [1.56927006e-03, 1.28395019e-02, 3.17860705e-02, ...,\n",
       "        0.00000000e+00, 0.00000000e+00, 0.00000000e+00]])"
      ]
     },
     "execution_count": 20,
     "metadata": {},
     "output_type": "execute_result"
    }
   ],
   "source": [
    "X"
   ]
  },
  {
   "cell_type": "code",
   "execution_count": 21,
   "id": "8b7ff09b",
   "metadata": {},
   "outputs": [],
   "source": [
    "v=np.linspace(0,100,30000)\n"
   ]
  },
  {
   "cell_type": "code",
   "execution_count": 31,
   "id": "f3c45ee8",
   "metadata": {},
   "outputs": [
    {
     "data": {
      "text/plain": [
       "[<matplotlib.lines.Line2D at 0x7fea1f01a040>]"
      ]
     },
     "execution_count": 31,
     "metadata": {},
     "output_type": "execute_result"
    },
    {
     "data": {
      "image/png": "[encoded data removed]",
      "text/plain": [
       "<Figure size 432x288 with 1 Axes>"
      ]
     },
     "metadata": {
      "needs_background": "light"
     },
     "output_type": "display_data"
    }
   ],
   "source": [
    "fig, ax = plt.subplots()\n",
    "ax.plot(v,X[23])"
   ]
  },
  {
   "cell_type": "code",
   "execution_count": 30,
   "id": "4651e9ed",
   "metadata": {},
   "outputs": [
    {
     "data": {
      "text/plain": [
       "[<matplotlib.lines.Line2D at 0x7fea1ecf2c10>]"
      ]
     },
     "execution_count": 30,
     "metadata": {},
     "output_type": "execute_result"
    },
    {
     "data": {
      "image/png": "[encoded data removed]",
      "text/plain": [
       "<Figure size 432x288 with 1 Axes>"
      ]
     },
     "metadata": {
      "needs_background": "light"
     },
     "output_type": "display_data"
    }
   ],
   "source": [
    "fig, ax = plt.subplots()\n",
    "ax.plot(v,a_s[23])"
   ]
  },
  {
   "cell_type": "code",
   "execution_count": null,
   "id": "231230b7",
   "metadata": {},
   "outputs": [],
   "source": []
  }
 ],
 "metadata": {
  "kernelspec": {
   "display_name": "Python [conda env:pytorchdst] *",
   "language": "python",
   "name": "conda-env-pytorchdst-py"
  },
  "language_info": {
   "codemirror_mode": {
    "name": "ipython",
    "version": 3
   },
   "file_extension": ".py",
   "mimetype": "text/x-python",
   "name": "python",
   "nbconvert_exporter": "python",
   "pygments_lexer": "ipython3",
   "version": "3.8.8"
  }
 },
 "nbformat": 4,
 "nbformat_minor": 5
}